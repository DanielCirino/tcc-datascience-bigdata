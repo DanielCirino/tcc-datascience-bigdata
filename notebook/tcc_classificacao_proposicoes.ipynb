{
 "cells": [
  {
   "cell_type": "markdown",
   "id": "742a23bb",
   "metadata": {},
   "source": [
    "## Classificação temática de preposições legislativas\n"
   ]
  },
  {
   "cell_type": "markdown",
   "id": "4c09b4de",
   "metadata": {},
   "source": [
    "## Importação de classes"
   ]
  },
  {
   "cell_type": "code",
   "execution_count": 41,
   "id": "1ebeeb8a-bb4b-480d-83ad-902b7e87068a",
   "metadata": {},
   "outputs": [],
   "source": [
    "import pandas as pd\n",
    "from sklearn.feature_extraction.text import TfidfVectorizer\n",
    "from sklearn.model_selection import train_test_split\n",
    "\n",
    "# um classificador linear que utiliza o Gradiente Descendente Estocástico como método de treino. Por padrão, utiliza o estimador SVM.\n",
    "from sklearn.linear_model import SGDClassifier\n",
    "# Uma rede neural Perceptron Multicamadas\n",
    "from sklearn.neural_network import MLPClassifier\n",
    "\n",
    "from sklearn import metrics\n",
    "import matplotlib.pyplot as plt\n",
    "%matplotlib inline"
   ]
  },
  {
   "cell_type": "code",
   "execution_count": 58,
   "id": "ba82bf59-2825-497f-a61f-364734d57b31",
   "metadata": {},
   "outputs": [],
   "source": [
    "DIR_DATASET = r'C:\\Users\\Daniel.Vale\\Personal\\PBDDC\\TCC\\Projeto\\datasets\\\\'\n",
    "ARQUIVO_PROPOSICOES = f'{DIR_DATASET}\\\\proposicoes.csv'\n",
    "ARQUIVO_TEMAS = f'{DIR_DATASET}\\\\temas.csv'"
   ]
  },
  {
   "cell_type": "code",
   "execution_count": 61,
   "id": "1fcaa335",
   "metadata": {},
   "outputs": [],
   "source": [
    "colunasPreposicoes = ['id','uri','ementa']\n",
    "colunasTemas = ['uriProposicao','siglaTipo','codTema','tema']\n",
    "\n",
    "dfPreposicoes = pd.read_csv(ARQUIVO_PROPOSICOES, sep='|', low_memory=False,usecols=colunasPreposicoes)\n",
    "dfTemas = pd.read_csv(ARQUIVO_TEMAS, sep='|', low_memory=False,usecols=colunasTemas)\n"
   ]
  },
  {
   "cell_type": "code",
   "execution_count": 62,
   "id": "8ba6151f",
   "metadata": {},
   "outputs": [
    {
     "name": "stdout",
     "output_type": "stream",
     "text": [
      "                 id\n",
      "count  1.084210e+05\n",
      "mean   2.252992e+06\n",
      "std    4.199609e+04\n",
      "min    3.088800e+05\n",
      "25%    2.222554e+06\n",
      "50%    2.253213e+06\n",
      "75%    2.284692e+06\n",
      "max    2.314638e+06\n"
     ]
    }
   ],
   "source": [
    "print(dfPreposicoes.describe())\n"
   ]
  },
  {
   "cell_type": "code",
   "execution_count": 63,
   "id": "adbf13d6",
   "metadata": {},
   "outputs": [
    {
     "name": "stdout",
     "output_type": "stream",
     "text": [
      "            codTema\n",
      "count  48800.000000\n",
      "mean      52.033484\n",
      "std       11.475863\n",
      "min       34.000000\n",
      "25%       43.000000\n",
      "50%       54.000000\n",
      "75%       58.000000\n",
      "max       86.000000\n"
     ]
    }
   ],
   "source": [
    "print(dfTemas.describe())"
   ]
  },
  {
   "cell_type": "code",
   "execution_count": 64,
   "id": "b4e9a9d3",
   "metadata": {},
   "outputs": [
    {
     "name": "stdout",
     "output_type": "stream",
     "text": [
      "            codTema            id\n",
      "count  48800.000000  4.880000e+04\n",
      "mean      52.033484  2.251880e+06\n",
      "std       11.475863  4.833521e+04\n",
      "min       34.000000  3.088800e+05\n",
      "25%       43.000000  2.229377e+06\n",
      "50%       54.000000  2.255628e+06\n",
      "75%       58.000000  2.275685e+06\n",
      "max       86.000000  2.314621e+06\n"
     ]
    }
   ],
   "source": [
    "  dfPreposicoesTemas = pd.merge(dfTemas,dfPreposicoes,left_on='uriProposicao',right_on='uri')\n",
    "  print(dfPreposicoesTemas.describe())"
   ]
  },
  {
   "cell_type": "code",
   "execution_count": 65,
   "id": "7da32de2",
   "metadata": {},
   "outputs": [
    {
     "name": "stdout",
     "output_type": "stream",
     "text": [
      "                                                   ementa   tema\n",
      "count                                               48800  48800\n",
      "unique                                              26488     32\n",
      "top     Altera a Lei nº 14.124, de 10 de março de 2021...  Saúde\n",
      "freq                                                   16   6178\n"
     ]
    }
   ],
   "source": [
    "dfClassificacao = dfPreposicoesTemas[['ementa','tema']]\n",
    "print(dfClassificacao.describe())"
   ]
  },
  {
   "cell_type": "code",
   "execution_count": 66,
   "id": "8feefbe3",
   "metadata": {},
   "outputs": [
    {
     "name": "stdout",
     "output_type": "stream",
     "text": [
      "['Processo Legislativo e Atuação Parlamentar'\n",
      " 'Relações Internacionais e Comércio Exterior' 'Educação'\n",
      " 'Arte, Cultura e Religião' 'Administração Pública'\n",
      " 'Finanças Públicas e Orçamento' 'Previdência e Assistência Social'\n",
      " 'Saúde' 'Turismo' 'Defesa e Segurança' 'Direito e Defesa do Consumidor'\n",
      " 'Indústria, Comércio e Serviços' 'Energia, Recursos Hídricos e Minerais'\n",
      " 'Cidades e Desenvolvimento Urbano' 'Viação, Transporte e Mobilidade'\n",
      " 'Economia' 'Meio Ambiente e Desenvolvimento Sustentável'\n",
      " 'Ciência, Tecnologia e Inovação' 'Direito Penal e Processual Penal'\n",
      " 'Direitos Humanos e Minorias' 'Comunicações' 'Direito e Justiça'\n",
      " 'Trabalho e Emprego' 'Política, Partidos e Eleições'\n",
      " 'Agricultura, Pecuária, Pesca e Extrativismo' 'Estrutura Fundiária'\n",
      " 'Esporte e Lazer' 'Homenagens e Datas Comemorativas'\n",
      " 'Direito Civil e Processual Civil' 'Direito Constitucional'\n",
      " 'Ciências Sociais e Humanas' 'Ciências Exatas e da Terra']\n"
     ]
    }
   ],
   "source": [
    "print(pd.unique(dfClassificacao['tema']))"
   ]
  },
  {
   "cell_type": "code",
   "execution_count": 73,
   "id": "fa423031",
   "metadata": {},
   "outputs": [
    {
     "name": "stdout",
     "output_type": "stream",
     "text": [
      "SGDClassifier(alpha=0.001, max_iter=5, random_state=42, tol=None)\n"
     ]
    }
   ],
   "source": [
    "ementas = dfPreposicoesTemas['ementa'].values\n",
    "temas = dfPreposicoesTemas['tema'].values\n",
    "\n",
    "ementas_treino, ementas_teste, temas_treino, temas_test = train_test_split(ementas, temas, test_size=0.25)\n",
    "\n",
    "classificador = SGDClassifier(loss='hinge', penalty='l2', alpha=1e-3, random_state=42, max_iter=5, tol=None)\n",
    "\n",
    "#classificador = MLPClassifier(max_iter=100, random_state=1, verbose=True)\n",
    "\n",
    "\n",
    "print(classificador)\n"
   ]
  },
  {
   "cell_type": "code",
   "execution_count": 74,
   "id": "0c8b6a93",
   "metadata": {},
   "outputs": [
    {
     "data": {
      "text/plain": [
       "SGDClassifier(alpha=0.001, max_iter=5, random_state=42, tol=None)"
      ]
     },
     "execution_count": 74,
     "metadata": {},
     "output_type": "execute_result"
    }
   ],
   "source": [
    "vetorizador = TfidfVectorizer()\n",
    "vetor_ementas_treino = vetorizador.fit_transform(ementas_treino)\n",
    "\n",
    "classificador.fit(vetor_ementas_treino, temas_treino)"
   ]
  },
  {
   "cell_type": "code",
   "execution_count": 75,
   "id": "c0ac355d",
   "metadata": {},
   "outputs": [
    {
     "name": "stdout",
     "output_type": "stream",
     "text": [
      "                                             precision    recall  f1-score   support\n",
      "\n",
      " Processo Legislativo e Atuação Parlamentar       0.48      0.46      0.47       117\n",
      "Relações Internacionais e Comércio Exterior       0.42      0.35      0.38       157\n",
      "                                   Educação       0.51      0.76      0.61       652\n",
      "                   Arte, Cultura e Religião       0.30      0.24      0.26       144\n",
      "                      Administração Pública       0.33      0.25      0.29      1216\n",
      "              Finanças Públicas e Orçamento       0.28      0.17      0.21      1060\n",
      "           Previdência e Assistência Social       0.30      0.21      0.25       358\n",
      "                                      Saúde       0.43      0.57      0.49      1537\n",
      "                                    Turismo       0.25      0.38      0.30        48\n",
      "                         Defesa e Segurança       0.40      0.35      0.37       475\n",
      "             Direito e Defesa do Consumidor       0.24      0.21      0.23       278\n",
      "             Indústria, Comércio e Serviços       0.13      0.07      0.09       433\n",
      "      Energia, Recursos Hídricos e Minerais       0.40      0.45      0.42       333\n",
      "           Cidades e Desenvolvimento Urbano       0.45      0.48      0.46       185\n",
      "            Viação, Transporte e Mobilidade       0.45      0.60      0.51       446\n",
      "                                   Economia       0.19      0.19      0.19       403\n",
      "Meio Ambiente e Desenvolvimento Sustentável       0.44      0.53      0.48       413\n",
      "             Ciência, Tecnologia e Inovação       0.29      0.17      0.21       130\n",
      "           Direito Penal e Processual Penal       0.47      0.70      0.56       442\n",
      "                Direitos Humanos e Minorias       0.29      0.22      0.25      1247\n",
      "                               Comunicações       0.62      0.64      0.63       450\n",
      "                          Direito e Justiça       0.05      0.03      0.04        59\n",
      "                         Trabalho e Emprego       0.35      0.34      0.34       694\n",
      "              Política, Partidos e Eleições       0.46      0.69      0.55       118\n",
      "Agricultura, Pecuária, Pesca e Extrativismo       0.31      0.40      0.35       204\n",
      "                        Estrutura Fundiária       0.21      0.12      0.15        50\n",
      "                            Esporte e Lazer       0.39      0.38      0.39       100\n",
      "           Homenagens e Datas Comemorativas       0.56      0.68      0.61       225\n",
      "           Direito Civil e Processual Civil       0.42      0.40      0.41       200\n",
      "                     Direito Constitucional       0.04      0.04      0.04        24\n",
      "                 Ciências Sociais e Humanas       0.00      0.00      0.00         1\n",
      "                 Ciências Exatas e da Terra       0.00      0.00      0.00         1\n",
      "\n",
      "                                   accuracy                           0.39     12200\n",
      "                                  macro avg       0.33      0.35      0.33     12200\n",
      "                               weighted avg       0.37      0.39      0.37     12200\n",
      "\n"
     ]
    }
   ],
   "source": [
    "vetor_ementas_teste = vetorizador.transform(ementas_teste)\n",
    "predicao = classificador.predict(vetor_ementas_teste)\n",
    "\n",
    "print(metrics.classification_report(temas_test, predicao, target_names=pd.unique(temas), labels=pd.unique(temas)))"
   ]
  },
  {
   "cell_type": "code",
   "execution_count": 70,
   "id": "30df1033",
   "metadata": {},
   "outputs": [
    {
     "name": "stdout",
     "output_type": "stream",
     "text": [
      "[[355  21  22 ...  40   3  57]\n",
      " [ 11 112   2 ...   7   0   6]\n",
      " [ 25   1  54 ...  10   2   4]\n",
      " ...\n",
      " [ 58   3   5 ... 283   1  27]\n",
      " [  4   2   2 ...   4  15   3]\n",
      " [ 24   2   1 ...  11   3 363]]\n"
     ]
    }
   ],
   "source": [
    "matriz_confusao = metrics.confusion_matrix(temas_test, predicao)\n",
    "print(matriz_confusao)"
   ]
  },
  {
   "cell_type": "code",
   "execution_count": 71,
   "id": "205c62fc",
   "metadata": {},
   "outputs": [
    {
     "data": {
      "image/png": "[encoded data removed]",
      "text/plain": [
       "<Figure size 288x288 with 2 Axes>"
      ]
     },
     "metadata": {
      "needs_background": "light"
     },
     "output_type": "display_data"
    }
   ],
   "source": [
    "plt.matshow(matriz_confusao)\n",
    "plt.title(\"Matriz de confusão\")\n",
    "plt.colorbar()\n",
    "plt.ylabel(\"Classificações corretas\")\n",
    "plt.xlabel(\"Classificações obtidas\")\n",
    "plt.show()"
   ]
  },
  {
   "cell_type": "code",
   "execution_count": 78,
   "id": "3bc386d3",
   "metadata": {},
   "outputs": [
    {
     "ename": "ValueError",
     "evalue": "too many values to unpack (expected 4)",
     "output_type": "error",
     "traceback": [
      "\u001b[1;31m---------------------------------------------------------------------------\u001b[0m",
      "\u001b[1;31mValueError\u001b[0m                                Traceback (most recent call last)",
      "Input \u001b[1;32mIn [78]\u001b[0m, in \u001b[0;36m<module>\u001b[1;34m\u001b[0m\n\u001b[1;32m----> 1\u001b[0m tn, fp, fn, tp \u001b[38;5;241m=\u001b[39m matriz_confusao\u001b[38;5;241m.\u001b[39mravel()\n\u001b[0;32m      2\u001b[0m \u001b[38;5;28mprint\u001b[39m(metrics\u001b[38;5;241m.\u001b[39maccuracy_score(temas_test, predicao))\n",
      "\u001b[1;31mValueError\u001b[0m: too many values to unpack (expected 4)"
     ]
    }
   ],
   "source": [
    "tn, fp, fn, tp = matriz_confusao.ravel()\n",
    "print(metrics.accuracy_score(temas_test, predicao))"
   ]
  }
 ],
 "metadata": {
  "kernelspec": {
   "display_name": "Python 3 (ipykernel)",
   "language": "python",
   "name": "python3"
  },
  "language_info": {
   "codemirror_mode": {
    "name": "ipython",
    "version": 3
   },
   "file_extension": ".py",
   "mimetype": "text/x-python",
   "name": "python",
   "nbconvert_exporter": "python",
   "pygments_lexer": "ipython3",
   "version": "3.9.4"
  }
 },
 "nbformat": 4,
 "nbformat_minor": 5
}
