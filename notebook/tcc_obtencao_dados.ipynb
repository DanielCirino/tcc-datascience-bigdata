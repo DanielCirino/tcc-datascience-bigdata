{
 "cells": [
  {
   "cell_type": "code",
   "execution_count": 32,
   "id": "b46c6715",
   "metadata": {},
   "outputs": [],
   "source": [
    "import os\n",
    "import requests\n",
    "import pandas as pd\n",
    "import csv"
   ]
  },
  {
   "cell_type": "code",
   "execution_count": 8,
   "id": "1fa75bcd",
   "metadata": {
    "scrolled": true
   },
   "outputs": [
    {
     "name": "stdout",
     "output_type": "stream",
     "text": [
      "Arquivo baixado: http://dadosabertos.camara.leg.br/arquivos/proposicoes/csv/proposicoes-2022.csv\n",
      "Arquivo baixado: http://dadosabertos.camara.leg.br/arquivos/proposicoesTemas/csv/proposicoesTemas-2022.csv\n",
      "Arquivo baixado: http://dadosabertos.camara.leg.br/arquivos/proposicoes/csv/proposicoes-2021.csv\n",
      "Arquivo baixado: http://dadosabertos.camara.leg.br/arquivos/proposicoesTemas/csv/proposicoesTemas-2021.csv\n",
      "Arquivo baixado: http://dadosabertos.camara.leg.br/arquivos/proposicoes/csv/proposicoes-2020.csv\n",
      "Arquivo baixado: http://dadosabertos.camara.leg.br/arquivos/proposicoesTemas/csv/proposicoesTemas-2020.csv\n",
      "Arquivo baixado: http://dadosabertos.camara.leg.br/arquivos/proposicoes/csv/proposicoes-2019.csv\n",
      "Arquivo baixado: http://dadosabertos.camara.leg.br/arquivos/proposicoesTemas/csv/proposicoesTemas-2019.csv\n"
     ]
    }
   ],
   "source": [
    "\n",
    "\n",
    "DIR_DATASET = r'C:\\Users\\Daniel.Vale\\Personal\\PBDDC\\TCC\\Projeto\\datasets\\\\'\n",
    "URL_ARQUIVO_PROPOSICOES = r'http://dadosabertos.camara.leg.br/arquivos/proposicoes/csv/'\n",
    "URL_ARQUIVO_TEMAS = r'http://dadosabertos.camara.leg.br/arquivos/proposicoesTemas/csv/'\n",
    "\n",
    "anosParaExtracao = [2022,2021,2020,2019,2018,2017,2016,2015]\n",
    "\n",
    "for ano in anosParaExtracao:\n",
    "    urlArquivoProposicao = f'{URL_ARQUIVO_PROPOSICOES}proposicoes-{ano}.csv'\n",
    "    urlArquivoTemas = f'{URL_ARQUIVO_TEMAS}proposicoesTemas-{ano}.csv'\n",
    "    \n",
    "    arquivoProposicao = requests.get(urlArquivoProposicao)\n",
    "    with open(f'{DIR_DATASET}\\\\proposicoes\\\\proposicoes-{ano}.csv','wb') as arquivo:\n",
    "        arquivo.write(arquivoProposicao.content)\n",
    "    \n",
    "    print(f'Arquivo baixado: {urlArquivoProposicao}')\n",
    "    \n",
    "    arquivoTemas = requests.get(urlArquivoTemas)\n",
    "    with open(f'{DIR_DATASET}\\\\temas\\\\proposicoesTemas-{ano}.csv','wb') as arquivo:\n",
    "        arquivo.write(arquivoProposicao.content)\n",
    "        \n",
    "    print(f'Arquivo baixado: {urlArquivoTemas}')"
   ]
  },
  {
   "cell_type": "code",
   "execution_count": 70,
   "id": "487e16ee",
   "metadata": {},
   "outputs": [
    {
     "name": "stdout",
     "output_type": "stream",
     "text": [
      "proposicoes-2002.csv\n",
      "proposicoes-2003.csv\n",
      "proposicoes-2004.csv\n",
      "proposicoes-2005.csv\n",
      "proposicoes-2006.csv\n",
      "proposicoes-2007.csv\n",
      "proposicoes-2008.csv\n",
      "proposicoes-2009.csv\n",
      "proposicoes-2010.csv\n",
      "proposicoes-2011.csv\n",
      "proposicoes-2012.csv\n",
      "proposicoes-2013.csv\n",
      "proposicoes-2014.csv\n",
      "proposicoes-2015.csv\n",
      "proposicoes-2016.csv\n",
      "proposicoes-2017.csv\n",
      "proposicoes-2018.csv\n",
      "proposicoes-2019.csv\n",
      "proposicoes-2020.csv\n",
      "proposicoes-2021.csv\n",
      "proposicoes-2022.csv\n"
     ]
    }
   ],
   "source": [
    "dfProposicoesList = []\n",
    "dfTemasList = []\n",
    "\n",
    "for arquivo in os.listdir(f'{DIR_DATASET}\\\\proposicoes\\\\'):\n",
    "    df = pd.read_csv(f'{DIR_DATASET}\\\\proposicoes\\\\{arquivo}', sep=';', low_memory=False)\n",
    "    dfProposicoesList.append(df)\n",
    "    print(arquivo)"
   ]
  },
  {
   "cell_type": "code",
   "execution_count": 71,
   "id": "a81d1fdd",
   "metadata": {},
   "outputs": [
    {
     "name": "stdout",
     "output_type": "stream",
     "text": [
      "proposicoesTemas-2002.csv\n",
      "proposicoesTemas-2003.csv\n",
      "proposicoesTemas-2004.csv\n",
      "proposicoesTemas-2005.csv\n",
      "proposicoesTemas-2006.csv\n",
      "proposicoesTemas-2007.csv\n",
      "proposicoesTemas-2008.csv\n",
      "proposicoesTemas-2009.csv\n",
      "proposicoesTemas-2010.csv\n",
      "proposicoesTemas-2011.csv\n",
      "proposicoesTemas-2012.csv\n",
      "proposicoesTemas-2013.csv\n",
      "proposicoesTemas-2014.csv\n",
      "proposicoesTemas-2015.csv\n",
      "proposicoesTemas-2016.csv\n",
      "proposicoesTemas-2017.csv\n",
      "proposicoesTemas-2018.csv\n",
      "proposicoesTemas-2019.csv\n",
      "proposicoesTemas-2020.csv\n",
      "proposicoesTemas-2021.csv\n",
      "proposicoesTemas-2022.csv\n"
     ]
    }
   ],
   "source": [
    "for arquivo in os.listdir(f'{DIR_DATASET}\\\\temas\\\\'):\n",
    "    df = pd.read_csv(f'{DIR_DATASET}\\\\temas\\\\{arquivo}', sep=';', low_memory=False)\n",
    "    dfTemasList.append(df)\n",
    "    print(arquivo)"
   ]
  },
  {
   "cell_type": "code",
   "execution_count": 89,
   "id": "1c9d1f7a",
   "metadata": {},
   "outputs": [
    {
     "name": "stdout",
     "output_type": "stream",
     "text": [
      "                 id         numero            ano        codTipo  \\\n",
      "count  5.605750e+05  560575.000000  560575.000000  560575.000000   \n",
      "mean   1.071880e+06    1055.564597    1228.202266     215.659146   \n",
      "std    8.631690e+05    2046.547589     981.358236     130.633710   \n",
      "min    2.951700e+04       0.000000       0.000000     129.000000   \n",
      "25%    3.677705e+05       1.000000       0.000000     139.000000   \n",
      "50%    5.544670e+05      46.000000    2006.000000     187.000000   \n",
      "75%    2.149846e+06     933.000000    2015.000000     197.000000   \n",
      "max    2.314638e+06   34520.000000    2022.000000    1009.000000   \n",
      "\n",
      "       uriPropAnterior  urnFinal  ultimoStatus_sequencia  \\\n",
      "count              0.0       0.0           560575.000000   \n",
      "mean               NaN       NaN                9.088759   \n",
      "std                NaN       NaN               16.453412   \n",
      "min                NaN       NaN                1.000000   \n",
      "25%                NaN       NaN                1.000000   \n",
      "50%                NaN       NaN                2.000000   \n",
      "75%                NaN       NaN               15.000000   \n",
      "max                NaN       NaN              878.000000   \n",
      "\n",
      "       ultimoStatus_idOrgao  ultimoStatus_idTipoTramitacao  \\\n",
      "count         242446.000000                  560575.000000   \n",
      "mean           37647.288625                     350.789004   \n",
      "std           128794.569509                     291.999528   \n",
      "min                4.000000                       5.000000   \n",
      "25%                4.000000                     100.000000   \n",
      "50%                4.000000                     319.000000   \n",
      "75%             2012.000000                     502.000000   \n",
      "max           539004.000000                    1502.000000   \n",
      "\n",
      "       ultimoStatus_idSituacao  \n",
      "count            242446.000000  \n",
      "mean                977.256358  \n",
      "std                 118.542566  \n",
      "min                 900.000000  \n",
      "25%                 923.000000  \n",
      "50%                 923.000000  \n",
      "75%                 925.000000  \n",
      "max                1311.000000  \n",
      "              numero            ano        codTema     relevancia\n",
      "count  176408.000000  174883.000000  176410.000000  176410.000000\n",
      "mean     2814.379654    2012.819565      50.024613       0.022742\n",
      "std      2533.870299       6.027692      11.526320       0.231532\n",
      "min         1.000000    2002.000000      34.000000       0.000000\n",
      "25%       695.000000    2007.000000      40.000000       0.000000\n",
      "50%      2112.000000    2013.000000      48.000000       0.000000\n",
      "75%      4384.000000    2019.000000      58.000000       0.000000\n",
      "max     11279.000000    2022.000000      86.000000       7.000000\n"
     ]
    }
   ],
   "source": [
    "dfProposicoes = pd.concat(dfProposicoesList)\n",
    "dfTemas = pd.concat(dfTemasList)\n",
    "\n",
    "print(dfProposicoes.describe())\n",
    "print(dfTemas.describe())"
   ]
  },
  {
   "cell_type": "code",
   "execution_count": 91,
   "id": "309756dd",
   "metadata": {},
   "outputs": [
    {
     "data": {
      "text/plain": [
       "'OF -SF, encaminhando autógrafos deste projeto promulgado.<R><N>Transformado no Decreto Legislativo 91/02 . DOFC 17 05 02 PAG 003 COL 03.'"
      ]
     },
     "execution_count": 91,
     "metadata": {},
     "output_type": "execute_result"
    }
   ],
   "source": [
    "dfProposicoes = dfProposicoes.replace(to_replace=[r\"\\\\t|\\\\n|\\\\r\", \"\\t|\\n|\\r\"], value=[\"<N>\",\"<R>\"],regex=True)\n",
    "\n",
    "dfProposicoes.iloc[38]['ultimoStatus_despacho']"
   ]
  },
  {
   "cell_type": "code",
   "execution_count": 92,
   "id": "a72f63d3",
   "metadata": {},
   "outputs": [],
   "source": [
    "dfProposicoes.to_csv(f'{DIR_DATASET}\\\\proposicoes.csv',index=False,sep='|',quoting=csv.QUOTE_ALL,  escapechar=\"\\\\\")\n",
    "dfTemas.to_csv(f'{DIR_DATASET}\\\\temas.csv',index=False,sep='|',quoting=csv.QUOTE_ALL,  escapechar=\"\\\\\")"
   ]
  },
  {
   "cell_type": "code",
   "execution_count": 73,
   "id": "dff8c7d6",
   "metadata": {},
   "outputs": [
    {
     "data": {
      "text/plain": [
       "'OF -SF, encaminhando autógrafos deste projeto promulgado.\\r\\nTransformado no Decreto Legislativo 91/02 . DOFC 17 05 02 PAG 003 COL 03.'"
      ]
     },
     "execution_count": 73,
     "metadata": {},
     "output_type": "execute_result"
    }
   ],
   "source": []
  }
 ],
 "metadata": {
  "kernelspec": {
   "display_name": "Python 3 (ipykernel)",
   "language": "python",
   "name": "python3"
  },
  "language_info": {
   "codemirror_mode": {
    "name": "ipython",
    "version": 3
   },
   "file_extension": ".py",
   "mimetype": "text/x-python",
   "name": "python",
   "nbconvert_exporter": "python",
   "pygments_lexer": "ipython3",
   "version": "3.9.4"
  }
 },
 "nbformat": 4,
 "nbformat_minor": 5
}
